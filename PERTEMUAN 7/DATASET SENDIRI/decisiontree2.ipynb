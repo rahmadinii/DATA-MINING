{
 "cells": [
  {
   "cell_type": "markdown",
   "metadata": {},
   "source": [
    "<center><h1>TUGAS PERTEMUAN 7 DATA MINING DECISION TREE DATASET OBESITY CLASSIFICATION</h1></center>\n",
    "\n",
    "---"
   ]
  },
  {
   "cell_type": "markdown",
   "metadata": {},
   "source": [
    "RAHMADINI CAHYA DEMORA\n",
    "\n",
    "A11.2022.14464\n",
    "\n",
    "A11.4509\n",
    "\n",
    "DATA MINING\n",
    "\n",
    "Junta Zeniarja, M.Kom"
   ]
  },
  {
   "cell_type": "markdown",
   "metadata": {},
   "source": [
    "<h2>Import Library</h2>"
   ]
  },
  {
   "cell_type": "code",
   "execution_count": 65,
   "metadata": {},
   "outputs": [],
   "source": [
    "import pandas as pd\n",
    "from sklearn.tree import DecisionTreeClassifier\n",
    "from sklearn.model_selection import train_test_split\n",
    "from sklearn import tree\n",
    "import os\n",
    "import pydotplus\n",
    "from IPython.display import Image"
   ]
  },
  {
   "cell_type": "markdown",
   "metadata": {},
   "source": [
    "<h2>Import Data</h2>"
   ]
  },
  {
   "cell_type": "code",
   "execution_count": 66,
   "metadata": {},
   "outputs": [],
   "source": [
    "obes = pd.read_csv(\"Obesity Classification.csv\")"
   ]
  },
  {
   "cell_type": "code",
   "execution_count": 67,
   "metadata": {},
   "outputs": [
    {
     "data": {
      "text/html": [
       "<div>\n",
       "<style scoped>\n",
       "    .dataframe tbody tr th:only-of-type {\n",
       "        vertical-align: middle;\n",
       "    }\n",
       "\n",
       "    .dataframe tbody tr th {\n",
       "        vertical-align: top;\n",
       "    }\n",
       "\n",
       "    .dataframe thead th {\n",
       "        text-align: right;\n",
       "    }\n",
       "</style>\n",
       "<table border=\"1\" class=\"dataframe\">\n",
       "  <thead>\n",
       "    <tr style=\"text-align: right;\">\n",
       "      <th></th>\n",
       "      <th>ID</th>\n",
       "      <th>Age</th>\n",
       "      <th>Gender</th>\n",
       "      <th>Height</th>\n",
       "      <th>Weight</th>\n",
       "      <th>BMI</th>\n",
       "      <th>Label</th>\n",
       "    </tr>\n",
       "  </thead>\n",
       "  <tbody>\n",
       "    <tr>\n",
       "      <th>0</th>\n",
       "      <td>1</td>\n",
       "      <td>25</td>\n",
       "      <td>Male</td>\n",
       "      <td>175</td>\n",
       "      <td>80</td>\n",
       "      <td>25.3</td>\n",
       "      <td>Normal Weight</td>\n",
       "    </tr>\n",
       "    <tr>\n",
       "      <th>1</th>\n",
       "      <td>2</td>\n",
       "      <td>30</td>\n",
       "      <td>Female</td>\n",
       "      <td>160</td>\n",
       "      <td>60</td>\n",
       "      <td>22.5</td>\n",
       "      <td>Normal Weight</td>\n",
       "    </tr>\n",
       "    <tr>\n",
       "      <th>2</th>\n",
       "      <td>3</td>\n",
       "      <td>35</td>\n",
       "      <td>Male</td>\n",
       "      <td>180</td>\n",
       "      <td>90</td>\n",
       "      <td>27.3</td>\n",
       "      <td>Overweight</td>\n",
       "    </tr>\n",
       "    <tr>\n",
       "      <th>3</th>\n",
       "      <td>4</td>\n",
       "      <td>40</td>\n",
       "      <td>Female</td>\n",
       "      <td>150</td>\n",
       "      <td>50</td>\n",
       "      <td>20.0</td>\n",
       "      <td>Underweight</td>\n",
       "    </tr>\n",
       "    <tr>\n",
       "      <th>4</th>\n",
       "      <td>5</td>\n",
       "      <td>45</td>\n",
       "      <td>Male</td>\n",
       "      <td>190</td>\n",
       "      <td>100</td>\n",
       "      <td>31.2</td>\n",
       "      <td>Obese</td>\n",
       "    </tr>\n",
       "    <tr>\n",
       "      <th>...</th>\n",
       "      <td>...</td>\n",
       "      <td>...</td>\n",
       "      <td>...</td>\n",
       "      <td>...</td>\n",
       "      <td>...</td>\n",
       "      <td>...</td>\n",
       "      <td>...</td>\n",
       "    </tr>\n",
       "    <tr>\n",
       "      <th>103</th>\n",
       "      <td>106</td>\n",
       "      <td>11</td>\n",
       "      <td>Male</td>\n",
       "      <td>175</td>\n",
       "      <td>10</td>\n",
       "      <td>3.9</td>\n",
       "      <td>Underweight</td>\n",
       "    </tr>\n",
       "    <tr>\n",
       "      <th>104</th>\n",
       "      <td>107</td>\n",
       "      <td>16</td>\n",
       "      <td>Female</td>\n",
       "      <td>160</td>\n",
       "      <td>10</td>\n",
       "      <td>3.9</td>\n",
       "      <td>Underweight</td>\n",
       "    </tr>\n",
       "    <tr>\n",
       "      <th>105</th>\n",
       "      <td>108</td>\n",
       "      <td>21</td>\n",
       "      <td>Male</td>\n",
       "      <td>180</td>\n",
       "      <td>15</td>\n",
       "      <td>5.6</td>\n",
       "      <td>Underweight</td>\n",
       "    </tr>\n",
       "    <tr>\n",
       "      <th>106</th>\n",
       "      <td>109</td>\n",
       "      <td>26</td>\n",
       "      <td>Female</td>\n",
       "      <td>150</td>\n",
       "      <td>15</td>\n",
       "      <td>5.6</td>\n",
       "      <td>Underweight</td>\n",
       "    </tr>\n",
       "    <tr>\n",
       "      <th>107</th>\n",
       "      <td>110</td>\n",
       "      <td>31</td>\n",
       "      <td>Male</td>\n",
       "      <td>190</td>\n",
       "      <td>20</td>\n",
       "      <td>8.3</td>\n",
       "      <td>Underweight</td>\n",
       "    </tr>\n",
       "  </tbody>\n",
       "</table>\n",
       "<p>108 rows × 7 columns</p>\n",
       "</div>"
      ],
      "text/plain": [
       "      ID  Age  Gender  Height  Weight   BMI          Label\n",
       "0      1   25    Male     175      80  25.3  Normal Weight\n",
       "1      2   30  Female     160      60  22.5  Normal Weight\n",
       "2      3   35    Male     180      90  27.3     Overweight\n",
       "3      4   40  Female     150      50  20.0    Underweight\n",
       "4      5   45    Male     190     100  31.2          Obese\n",
       "..   ...  ...     ...     ...     ...   ...            ...\n",
       "103  106   11    Male     175      10   3.9    Underweight\n",
       "104  107   16  Female     160      10   3.9    Underweight\n",
       "105  108   21    Male     180      15   5.6    Underweight\n",
       "106  109   26  Female     150      15   5.6    Underweight\n",
       "107  110   31    Male     190      20   8.3    Underweight\n",
       "\n",
       "[108 rows x 7 columns]"
      ]
     },
     "execution_count": 67,
     "metadata": {},
     "output_type": "execute_result"
    }
   ],
   "source": [
    "obes"
   ]
  },
  {
   "cell_type": "code",
   "execution_count": 68,
   "metadata": {},
   "outputs": [],
   "source": [
    "# Mengonversi data kategorikal 'Gender' ke numerik\n",
    "obes[\"Gender\"] = obes[\"Gender\"].map({\"Male\": 1, \"Female\": 0})"
   ]
  },
  {
   "cell_type": "code",
   "execution_count": 69,
   "metadata": {},
   "outputs": [],
   "source": [
    "# Memisahkan fitur dan target\n",
    "features = obes[[\"Age\", \"Gender\", \"Height\", \"Weight\", \"BMI\"]]  # Fitur\n",
    "target = obes[\"Label\"]  # Target"
   ]
  },
  {
   "cell_type": "code",
   "execution_count": 70,
   "metadata": {},
   "outputs": [],
   "source": [
    "# Membagi data menjadi training dan testing\n",
    "X_train, X_test, y_train, y_test = train_test_split(features, target, test_size=0.3, random_state=42)"
   ]
  },
  {
   "cell_type": "code",
   "execution_count": 71,
   "metadata": {},
   "outputs": [],
   "source": [
    "# Membuat Objek Model Decision Tree\n",
    "decisiontree = DecisionTreeClassifier(random_state=0)"
   ]
  },
  {
   "cell_type": "code",
   "execution_count": 72,
   "metadata": {},
   "outputs": [],
   "source": [
    "# Melatih model\n",
    "model = decisiontree.fit(X_train, y_train)"
   ]
  },
  {
   "cell_type": "code",
   "execution_count": 73,
   "metadata": {},
   "outputs": [
    {
     "name": "stdout",
     "output_type": "stream",
     "text": [
      "Hasil prediksi: ['Normal Weight']\n",
      "Probabilitas prediksi: [[1. 0. 0. 0.]]\n"
     ]
    },
    {
     "name": "stderr",
     "output_type": "stream",
     "text": [
      "C:\\Users\\ACER\\AppData\\Local\\Packages\\PythonSoftwareFoundation.Python.3.11_qbz5n2kfra8p0\\LocalCache\\local-packages\\Python311\\site-packages\\sklearn\\base.py:493: UserWarning: X does not have valid feature names, but DecisionTreeClassifier was fitted with feature names\n",
      "  warnings.warn(\n",
      "C:\\Users\\ACER\\AppData\\Local\\Packages\\PythonSoftwareFoundation.Python.3.11_qbz5n2kfra8p0\\LocalCache\\local-packages\\Python311\\site-packages\\sklearn\\base.py:493: UserWarning: X does not have valid feature names, but DecisionTreeClassifier was fitted with feature names\n",
      "  warnings.warn(\n"
     ]
    }
   ],
   "source": [
    "# Membuat Prediksi\n",
    "observation = [[25, 1, 175, 80, 25.3]]  # Contoh input data (Age, Gender, Height, Weight, BMI)\n",
    "print(\"Hasil prediksi:\", model.predict(observation))\n",
    "print(\"Probabilitas prediksi:\", model.predict_proba(observation))"
   ]
  },
  {
   "cell_type": "code",
   "execution_count": 74,
   "metadata": {},
   "outputs": [
    {
     "data": {
      "text/plain": [
       "True"
      ]
     },
     "execution_count": 74,
     "metadata": {},
     "output_type": "execute_result"
    }
   ],
   "source": [
    "# Membuat Grafik Visualisasi Decision Tree\n",
    "os.environ[\"PATH\"] += os.pathsep + 'C:/Program Files/Graphviz/bin'\n",
    "\n",
    "dot_data = tree.export_graphviz(decisiontree, out_file=None,\n",
    "    feature_names=features.columns,\n",
    "    class_names=model.classes_,\n",
    "    filled=True, rounded=True, special_characters=True)\n",
    "\n",
    "graph = pydotplus.graph_from_dot_data(dot_data)\n",
    "png_path = r\"obesity_tree.png\"\n",
    "graph.write_png(png_path)"
   ]
  },
  {
   "cell_type": "code",
   "execution_count": 75,
   "metadata": {},
   "outputs": [
    {
     "data": {
      "image/png": "[encoded data removed]",
      "text/plain": [
       "<IPython.core.display.Image object>"
      ]
     },
     "execution_count": 75,
     "metadata": {},
     "output_type": "execute_result"
    }
   ],
   "source": [
    "# Menampilkan grafik\n",
    "Image(png_path)"
   ]
  },
  {
   "cell_type": "markdown",
   "metadata": {},
   "source": [
    "Gini adalah salah satu ukuran untuk mengevaluasi kualitas split pada Decision Tree. Gini digunakan untuk menentukan bagaimana suatu node dalam decision tree akan dibagi (split).\n",
    "Gini membantu algoritma untuk memutuskan bagaimana membagi data agar menghasilkan decision tree yang efektif. Semakin kecil nilai Gini, semakin baik kualitas split-nya."
   ]
  },
  {
   "cell_type": "code",
   "execution_count": 76,
   "metadata": {},
   "outputs": [
    {
     "name": "stdout",
     "output_type": "stream",
     "text": [
      "Index(['ID', 'Age', 'Gender', 'Height', 'Weight', 'BMI', 'Label'], dtype='object')\n"
     ]
    }
   ],
   "source": [
    "# Mengimpor library yang diperlukan\n",
    "import numpy as np\n",
    "import pandas as pd\n",
    "from sklearn import tree\n",
    "\n",
    "# Membaca dataset dari file ke dalam pandas DataFrame dengan delimiter yang benar (;)\n",
    "obesDataset = pd.read_csv('D:\\KULIAH\\SEMESTER 5\\DATA MINING\\TUGAS\\PERTEMUAN 7\\DATASET SENDIRI\\Obesity Classification.csv', sep=',', engine='python')\n",
    "\n",
    "# Memeriksa nama-nama kolom untuk memastikan semuanya benar\n",
    "print(obesDataset.columns)"
   ]
  },
  {
   "cell_type": "code",
   "execution_count": 77,
   "metadata": {},
   "outputs": [
    {
     "name": "stdout",
     "output_type": "stream",
     "text": [
      "[[25 'Male' 175 80 25.3 0]\n",
      " [30 'Female' 160 60 22.5 0]\n",
      " [35 'Male' 180 90 27.3 1]\n",
      " [40 'Female' 150 50 20.0 2]\n",
      " [45 'Male' 190 100 31.2 3]\n",
      " [50 'Female' 140 40 16.7 2]\n",
      " [55 'Male' 200 110 34.2 3]\n",
      " [60 'Female' 130 30 13.3 2]\n",
      " [65 'Male' 210 120 37.2 3]\n",
      " [70 'Female' 120 20 10.0 2]\n",
      " [18 'Male' 175 70 23.4 0]\n",
      " [23 'Female' 160 50 20.0 2]\n",
      " [28 'Male' 180 80 25.3 0]\n",
      " [33 'Female' 150 60 22.5 0]\n",
      " [38 'Male' 190 90 27.3 1]\n",
      " [43 'Female' 140 50 20.0 2]\n",
      " [48 'Male' 200 100 31.2 3]\n",
      " [53 'Female' 130 40 16.7 2]\n",
      " [58 'Male' 210 110 34.2 3]\n",
      " [63 'Female' 120 30 13.3 2]\n",
      " [68 'Male' 175 80 25.3 0]\n",
      " [73 'Female' 160 60 22.5 0]\n",
      " [78 'Male' 180 90 27.3 1]\n",
      " [83 'Female' 150 50 20.0 2]\n",
      " [88 'Male' 190 100 31.2 3]\n",
      " [93 'Female' 140 40 16.7 2]\n",
      " [98 'Male' 200 110 34.2 3]\n",
      " [103 'Female' 130 30 13.3 2]\n",
      " [108 'Male' 210 120 37.2 3]\n",
      " [19 'Male' 175 75 24.2 0]\n",
      " [24 'Female' 160 55 21.2 0]\n",
      " [29 'Male' 180 85 26.1 1]\n",
      " [39 'Male' 190 95 27.0 1]\n",
      " [44 'Female' 140 75 25.0 1]\n",
      " [49 'Male' 200 105 28.9 3]\n",
      " [54 'Female' 130 85 27.5 1]\n",
      " [59 'Male' 210 115 30.8 3]\n",
      " [64 'Female' 120 95 29.1 1]\n",
      " [17 'Male' 175 65 22.7 0]\n",
      " [22 'Female' 160 45 18.7 2]\n",
      " [27 'Male' 180 75 24.2 0]\n",
      " [32 'Female' 150 55 21.2 0]\n",
      " [37 'Male' 190 85 26.1 1]\n",
      " [42 'Female' 140 65 22.7 0]\n",
      " [47 'Male' 200 95 27.0 1]\n",
      " [52 'Female' 130 75 25.0 1]\n",
      " [57 'Male' 210 105 28.9 3]\n",
      " [62 'Female' 120 85 27.5 1]\n",
      " [67 'Male' 175 65 22.7 0]\n",
      " [72 'Female' 160 45 18.7 2]\n",
      " [77 'Male' 180 75 24.2 0]\n",
      " [82 'Female' 150 55 21.2 0]\n",
      " [87 'Male' 190 85 26.1 1]\n",
      " [92 'Female' 140 65 22.7 0]\n",
      " [97 'Male' 200 95 27.0 1]\n",
      " [102 'Female' 130 75 25.0 1]\n",
      " [107 'Male' 210 105 28.9 3]\n",
      " [112 'Female' 120 85 27.5 1]\n",
      " [16 'Male' 175 55 21.2 0]\n",
      " [21 'Female' 160 35 16.7 2]\n",
      " [26 'Male' 180 65 22.7 0]\n",
      " [31 'Female' 150 45 18.7 2]\n",
      " [36 'Male' 190 75 24.2 0]\n",
      " [41 'Female' 140 55 21.2 0]\n",
      " [46 'Male' 200 85 26.1 1]\n",
      " [51 'Female' 130 65 22.7 0]\n",
      " [56 'Male' 210 95 27.0 1]\n",
      " [61 'Female' 120 75 25.0 1]\n",
      " [15 'Male' 175 45 18.7 2]\n",
      " [20 'Female' 160 30 13.3 2]\n",
      " [25 'Male' 180 55 21.2 0]\n",
      " [30 'Female' 150 40 16.7 2]\n",
      " [35 'Male' 190 65 22.7 0]\n",
      " [40 'Female' 140 50 20.0 2]\n",
      " [45 'Male' 200 75 24.2 0]\n",
      " [50 'Female' 130 60 22.5 0]\n",
      " [55 'Male' 210 85 26.1 1]\n",
      " [60 'Female' 120 70 23.4 0]\n",
      " [14 'Male' 175 35 16.7 2]\n",
      " [19 'Female' 160 25 10.0 2]\n",
      " [24 'Male' 180 45 18.7 2]\n",
      " [29 'Female' 150 30 13.3 2]\n",
      " [34 'Male' 190 55 21.2 0]\n",
      " [13 'Male' 175 25 10.0 2]\n",
      " [18 'Female' 160 20 8.3 2]\n",
      " [23 'Male' 180 30 13.3 2]\n",
      " [28 'Female' 150 25 10.0 2]\n",
      " [33 'Male' 190 40 16.7 2]\n",
      " [38 'Female' 140 35 16.7 2]\n",
      " [43 'Male' 200 50 20.0 2]\n",
      " [48 'Female' 130 40 16.7 2]\n",
      " [53 'Male' 210 55 21.2 0]\n",
      " [58 'Female' 120 35 16.7 2]\n",
      " [12 'Male' 175 15 5.6 2]\n",
      " [17 'Female' 160 15 5.6 2]\n",
      " [22 'Male' 180 20 8.3 2]\n",
      " [27 'Female' 150 20 8.3 2]\n",
      " [32 'Male' 190 25 10.0 2]\n",
      " [37 'Female' 140 25 10.0 2]\n",
      " [42 'Male' 200 30 13.3 2]\n",
      " [47 'Female' 130 30 13.3 2]\n",
      " [52 'Male' 210 35 16.7 2]\n",
      " [57 'Female' 120 25 10.0 2]\n",
      " [11 'Male' 175 10 3.9 2]\n",
      " [16 'Female' 160 10 3.9 2]\n",
      " [21 'Male' 180 15 5.6 2]\n",
      " [26 'Female' 150 15 5.6 2]\n",
      " [31 'Male' 190 20 8.3 2]]\n"
     ]
    }
   ],
   "source": [
    "# Mengubah kolom \"Label\" menjadi integer unik\n",
    "obesDataset[\"Label\"] = pd.factorize(obesDataset['Label'])[0]\n",
    "\n",
    "# Menghapus kolom \"ID\"\n",
    "obesDataset = obesDataset.drop(labels=\"ID\", axis=1)\n",
    "\n",
    "# Mengubah DataFrame menjadi array NumPy\n",
    "obesDataset = obesDataset.to_numpy()\n",
    "\n",
    "# Dataset siap digunakan untuk tugas klasifikasi\n",
    "print(obesDataset)"
   ]
  },
  {
   "cell_type": "code",
   "execution_count": 78,
   "metadata": {},
   "outputs": [
    {
     "name": "stdout",
     "output_type": "stream",
     "text": [
      "Input Training:\n",
      "[[25 'Male' 175 80]\n",
      " [30 'Female' 160 60]\n",
      " [35 'Male' 180 90]\n",
      " [40 'Female' 150 50]\n",
      " [45 'Male' 190 100]\n",
      " [50 'Female' 140 40]\n",
      " [55 'Male' 200 110]\n",
      " [60 'Female' 130 30]\n",
      " [65 'Male' 210 120]\n",
      " [70 'Female' 120 20]\n",
      " [18 'Male' 175 70]\n",
      " [23 'Female' 160 50]\n",
      " [28 'Male' 180 80]\n",
      " [33 'Female' 150 60]\n",
      " [38 'Male' 190 90]\n",
      " [43 'Female' 140 50]\n",
      " [48 'Male' 200 100]\n",
      " [53 'Female' 130 40]\n",
      " [58 'Male' 210 110]\n",
      " [63 'Female' 120 30]\n",
      " [68 'Male' 175 80]\n",
      " [73 'Female' 160 60]\n",
      " [78 'Male' 180 90]\n",
      " [83 'Female' 150 50]\n",
      " [88 'Male' 190 100]\n",
      " [93 'Female' 140 40]\n",
      " [98 'Male' 200 110]\n",
      " [103 'Female' 130 30]\n",
      " [108 'Male' 210 120]\n",
      " [19 'Male' 175 75]\n",
      " [24 'Female' 160 55]\n",
      " [29 'Male' 180 85]\n",
      " [39 'Male' 190 95]\n",
      " [44 'Female' 140 75]\n",
      " [49 'Male' 200 105]\n",
      " [54 'Female' 130 85]\n",
      " [59 'Male' 210 115]\n",
      " [64 'Female' 120 95]\n",
      " [17 'Male' 175 65]\n",
      " [22 'Female' 160 45]\n",
      " [77 'Male' 180 75]\n",
      " [82 'Female' 150 55]\n",
      " [87 'Male' 190 85]\n",
      " [92 'Female' 140 65]\n",
      " [97 'Male' 200 95]\n",
      " [102 'Female' 130 75]\n",
      " [107 'Male' 210 105]\n",
      " [112 'Female' 120 85]\n",
      " [16 'Male' 175 55]\n",
      " [21 'Female' 160 35]\n",
      " [26 'Male' 180 65]\n",
      " [31 'Female' 150 45]\n",
      " [36 'Male' 190 75]\n",
      " [41 'Female' 140 55]\n",
      " [46 'Male' 200 85]\n",
      " [51 'Female' 130 65]\n",
      " [56 'Male' 210 95]\n",
      " [61 'Female' 120 75]\n",
      " [15 'Male' 175 45]\n",
      " [20 'Female' 160 30]\n",
      " [25 'Male' 180 55]\n",
      " [30 'Female' 150 40]\n",
      " [35 'Male' 190 65]\n",
      " [40 'Female' 140 50]\n",
      " [45 'Male' 200 75]\n",
      " [50 'Female' 130 60]\n",
      " [55 'Male' 210 85]\n",
      " [60 'Female' 120 70]\n",
      " [14 'Male' 175 35]\n",
      " [19 'Female' 160 25]\n",
      " [24 'Male' 180 45]\n",
      " [29 'Female' 150 30]\n",
      " [34 'Male' 190 55]\n",
      " [13 'Male' 175 25]\n",
      " [18 'Female' 160 20]\n",
      " [23 'Male' 180 30]\n",
      " [28 'Female' 150 25]\n",
      " [33 'Male' 190 40]\n",
      " [38 'Female' 140 35]\n",
      " [43 'Male' 200 50]]\n",
      "Label Training:\n",
      "[25.3 22.5 27.3 20.0 31.2 16.7 34.2 13.3 37.2 10.0 23.4 20.0 25.3 22.5\n",
      " 27.3 20.0 31.2 16.7 34.2 13.3 25.3 22.5 27.3 20.0 31.2 16.7 34.2 13.3\n",
      " 37.2 24.2 21.2 26.1 27.0 25.0 28.9 27.5 30.8 29.1 22.7 18.7 24.2 21.2\n",
      " 26.1 22.7 27.0 25.0 28.9 27.5 21.2 16.7 22.7 18.7 24.2 21.2 26.1 22.7\n",
      " 27.0 25.0 18.7 13.3 21.2 16.7 22.7 20.0 24.2 22.5 26.1 23.4 16.7 10.0\n",
      " 18.7 13.3 21.2 10.0 8.3 13.3 10.0 16.7 16.7 20.0]\n",
      "Input Testing:\n",
      "[[27 'Male' 180 75]\n",
      " [32 'Female' 150 55]\n",
      " [37 'Male' 190 85]\n",
      " [42 'Female' 140 65]\n",
      " [47 'Male' 200 95]\n",
      " [52 'Female' 130 75]\n",
      " [57 'Male' 210 105]\n",
      " [62 'Female' 120 85]\n",
      " [67 'Male' 175 65]\n",
      " [72 'Female' 160 45]\n",
      " [48 'Female' 130 40]\n",
      " [53 'Male' 210 55]\n",
      " [58 'Female' 120 35]\n",
      " [12 'Male' 175 15]\n",
      " [17 'Female' 160 15]\n",
      " [22 'Male' 180 20]\n",
      " [27 'Female' 150 20]\n",
      " [32 'Male' 190 25]\n",
      " [37 'Female' 140 25]\n",
      " [42 'Male' 200 30]]\n",
      "Label Testing:\n",
      "[24.2 21.2 26.1 22.7 27.0 25.0 28.9 27.5 22.7 18.7 16.7 21.2 16.7 5.6 5.6\n",
      " 8.3 8.3 10.0 10.0 13.3]\n"
     ]
    }
   ],
   "source": [
    "# Membagi dataset, 40 baris untuk training dan 20 baris untuk testing\n",
    "dataTraining = np.concatenate((obesDataset[0:40, :], obesDataset[50:90, :]), axis=0)\n",
    "dataTesting = np.concatenate((obesDataset[40:50, :], obesDataset[90:100, :]), axis=0)\n",
    "\n",
    "# Memecah dataset ke input (fitur) dan label (target)\n",
    "inputTraining = dataTraining[:, 0:4]  # Kolom 0 hingga 3 sebagai fitur\n",
    "inputTesting = dataTesting[:, 0:4]    # Kolom 0 hingga 3 sebagai fitur\n",
    "labelTraining = dataTraining[:, 4]    # Kolom ke-4 sebagai label\n",
    "labelTesting = dataTesting[:, 4]      # Kolom ke-4 sebagai label\n",
    "\n",
    "# Cetak hasil untuk memverifikasi\n",
    "print(\"Input Training:\")\n",
    "print(inputTraining)\n",
    "print(\"Label Training:\")\n",
    "print(labelTraining)\n",
    "print(\"Input Testing:\")\n",
    "print(inputTesting)\n",
    "print(\"Label Testing:\")\n",
    "print(labelTesting)"
   ]
  },
  {
   "cell_type": "code",
   "execution_count": 79,
   "metadata": {},
   "outputs": [
    {
     "name": "stdout",
     "output_type": "stream",
     "text": [
      "Model telah dilatih!\n",
      "Label sebenarnya:  77     Normal Weight\n",
      "10     Normal Weight\n",
      "4              Obese\n",
      "83       Underweight\n",
      "62     Normal Weight\n",
      "67        Overweight\n",
      "30     Normal Weight\n",
      "45        Overweight\n",
      "95       Underweight\n",
      "11       Underweight\n",
      "81       Underweight\n",
      "79       Underweight\n",
      "0      Normal Weight\n",
      "80       Underweight\n",
      "18             Obese\n",
      "69       Underweight\n",
      "56             Obese\n",
      "76        Overweight\n",
      "106      Underweight\n",
      "42        Overweight\n",
      "12     Normal Weight\n",
      "36             Obese\n",
      "64        Overweight\n",
      "26             Obese\n",
      "22        Overweight\n",
      "31        Overweight\n",
      "47        Overweight\n",
      "100      Underweight\n",
      "15       Underweight\n",
      "44        Overweight\n",
      "88       Underweight\n",
      "89       Underweight\n",
      "9        Underweight\n",
      "Name: Label, dtype: object\n",
      "Hasil prediksi:  ['Normal Weight' 'Normal Weight' 'Obese' 'Underweight' 'Normal Weight'\n",
      " 'Overweight' 'Normal Weight' 'Overweight' 'Underweight' 'Underweight'\n",
      " 'Underweight' 'Underweight' 'Normal Weight' 'Underweight' 'Obese'\n",
      " 'Underweight' 'Obese' 'Overweight' 'Underweight' 'Overweight'\n",
      " 'Normal Weight' 'Obese' 'Overweight' 'Obese' 'Overweight' 'Overweight'\n",
      " 'Overweight' 'Underweight' 'Underweight' 'Overweight' 'Underweight'\n",
      " 'Underweight' 'Underweight']\n",
      "Prediksi benar:  33 data\n",
      "Prediksi salah:  0 data\n",
      "Akurasi:  100.0 %\n"
     ]
    }
   ],
   "source": [
    "# Membaca dataset dari file\n",
    "obes = pd.read_csv(\"Obesity Classification.csv\")\n",
    "\n",
    "# Mengonversi 'Gender' menjadi numerik (0: Female, 1: Male)\n",
    "obes[\"Gender\"] = obes[\"Gender\"].map({\"Male\": 1, \"Female\": 0})\n",
    "\n",
    "# Memisahkan fitur dan target\n",
    "features = obes[[\"Age\", \"Gender\", \"Height\", \"Weight\", \"BMI\"]]  # Fitur\n",
    "target = obes[\"Label\"]  # Target\n",
    "\n",
    "# Membagi data menjadi training dan testing\n",
    "X_train, X_test, y_train, y_test = train_test_split(features, target, test_size=0.3, random_state=42)\n",
    "\n",
    "# Membuat model Decision Tree\n",
    "decisiontree = DecisionTreeClassifier(random_state=0)\n",
    "\n",
    "# Melatih model dengan data training\n",
    "model = decisiontree.fit(X_train, y_train)\n",
    "\n",
    "# Pastikan model sudah dilatih\n",
    "print(\"Model telah dilatih!\")\n",
    "\n",
    "# Membuat prediksi dengan data uji\n",
    "hasilPrediksi = model.predict(X_test)\n",
    "\n",
    "# Menampilkan hasil prediksi dan label sebenarnya\n",
    "print(\"Label sebenarnya: \", y_test)\n",
    "print(\"Hasil prediksi: \", hasilPrediksi)\n",
    "\n",
    "# Menghitung akurasi\n",
    "prediksiBenar = (hasilPrediksi == y_test).sum()  # Jumlah prediksi benar\n",
    "prediksiSalah = (hasilPrediksi != y_test).sum()  # Jumlah prediksi salah\n",
    "\n",
    "print(\"Prediksi benar: \", prediksiBenar, \"data\")\n",
    "print(\"Prediksi salah: \", prediksiSalah, \"data\")\n",
    "\n",
    "# Menghitung akurasi dalam persentase\n",
    "akurasi = (prediksiBenar / (prediksiBenar + prediksiSalah)) * 100\n",
    "print(\"Akurasi: \", akurasi, \"%\")\n"
   ]
  },
  {
   "cell_type": "code",
   "execution_count": 80,
   "metadata": {},
   "outputs": [
    {
     "name": "stdout",
     "output_type": "stream",
     "text": [
      "Requirement already satisfied: pydotplus in c:\\users\\acer\\appdata\\local\\packages\\pythonsoftwarefoundation.python.3.11_qbz5n2kfra8p0\\localcache\\local-packages\\python311\\site-packages (2.0.2)\n",
      "Requirement already satisfied: pyparsing>=2.0.1 in c:\\users\\acer\\appdata\\local\\packages\\pythonsoftwarefoundation.python.3.11_qbz5n2kfra8p0\\localcache\\local-packages\\python311\\site-packages (from pydotplus) (3.1.4)\n"
     ]
    }
   ],
   "source": [
    "!pip install pydotplus\n"
   ]
  },
  {
   "cell_type": "code",
   "execution_count": 81,
   "metadata": {},
   "outputs": [
    {
     "name": "stdout",
     "output_type": "stream",
     "text": [
      "Requirement already satisfied: graphviz in c:\\users\\acer\\appdata\\local\\packages\\pythonsoftwarefoundation.python.3.11_qbz5n2kfra8p0\\localcache\\local-packages\\python311\\site-packages (0.20.3)\n",
      "Note: you may need to restart the kernel to use updated packages.\n"
     ]
    }
   ],
   "source": [
    "pip install graphviz"
   ]
  }
 ],
 "metadata": {
  "kernelspec": {
   "display_name": "Python 3",
   "language": "python",
   "name": "python3"
  },
  "language_info": {
   "codemirror_mode": {
    "name": "ipython",
    "version": 3
   },
   "file_extension": ".py",
   "mimetype": "text/x-python",
   "name": "python",
   "nbconvert_exporter": "python",
   "pygments_lexer": "ipython3",
   "version": "3.11.9"
  }
 },
 "nbformat": 4,
 "nbformat_minor": 2
}
